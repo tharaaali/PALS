{
 "cells": [
  {
   "cell_type": "code",
   "execution_count": null,
   "id": "717b63c8",
   "metadata": {},
   "outputs": [],
   "source": [
    "# !pip install pyBKT"
   ]
  },
  {
   "cell_type": "code",
   "execution_count": 1,
   "id": "3d0cdfdc",
   "metadata": {},
   "outputs": [],
   "source": [
    "# Import all required packages including pyBKT.models.Model!\n",
    "import numpy as np\n",
    "import pandas as pd\n",
    "from pyBKT.models import Model\n",
    "import matplotlib.pyplot as plt"
   ]
  },
  {
   "cell_type": "code",
   "execution_count": null,
   "id": "dd7af9f8",
   "metadata": {},
   "outputs": [],
   "source": []
  },
  {
   "cell_type": "code",
   "execution_count": 4,
   "id": "f7c84079",
   "metadata": {},
   "outputs": [
    {
     "name": "stdout",
     "output_type": "stream",
     "text": [
      "                                          value\n",
      "skill                  param   class           \n",
      "Plot imperfect radical prior   default  0.03739\n",
      "                       learns  0I891Gg  0.00000\n",
      "                               17116XP9 0.00000\n",
      "                               1712bs2B 0.00000\n",
      "                               1715Zzr7 0.00000\n",
      "...                                         ...\n",
      "Plot pi                forgets x3A11ty  0.00000\n",
      "                               xFjwn    0.00000\n",
      "                               z3GhRzh  0.00000\n",
      "                               z7Zg3oy  0.00000\n",
      "                               zt5vuLM  0.00000\n",
      "\n",
      "[1076 rows x 1 columns]\n"
     ]
    }
   ],
   "source": [
    "# Note that the seed chosen is so we can consistently\n",
    "# replicate the results and avoid as much randomness\n",
    "# as possible.\n",
    "model = Model(seed = 42, num_fits = 1)\n",
    "\n",
    "\n",
    "# Fetch Assistments and CognitiveTutor data (optional - if you have your own dataset, that's fine too!)\n",
    "\n",
    "# Fetch Assistments and CognitiveTutor data to the local disk.\n",
    "# We will be using these datasets, but you can use any that you see fit when you use pyBKT.\n",
    "# The data formats accepted by pyBKT are comma separated and tab separated files\n",
    "# (note that pyBKT will automatically infer which is passed in).\n",
    "# Note that the correctness is given by -1 (no response), 0 (incorrect), or 1 (correct).\n",
    "\n",
    "\n",
    "model.fetch_dataset('https://raw.githubusercontent.com/CAHLR/pyBKT-examples/master/data/as.csv', '.')\n",
    "model.fetch_dataset('https://raw.githubusercontent.com/CAHLR/pyBKT-examples/master/data/ct.csv', '.')\n",
    "\n",
    "# Train a simple BKT model on all skills in the CT dataset\n",
    "model.fit(data_path = 'ct.csv')\n",
    "\n",
    "# Train a simple BKT model on one skill in the CT dataset\n",
    "# Note that calling fit deletes any previous trained BKT model!\n",
    "model.fit(data_path = 'ct.csv', skills = \"Plot imperfect radical\")\n",
    "\n",
    "# Train a simple BKT model on multiple skills in the CT dataset\n",
    "model.fit(data_path = 'ct.csv', skills = [\"Plot imperfect radical\",\n",
    "                                          \"Plot pi\"])\n",
    "\n",
    "# Train a multiguess and slip BKT model on multiple skills in the\n",
    "# CT dataset. Note: if you are not using CognitiveTutor or Assistments\n",
    "# data, you may need to provide a column mapping for the guess/slip\n",
    "# classes to use (i.e. if the column name is gsclasses, you would\n",
    "# specify multigs = 'gsclasses' or specify a defaults dictionary\n",
    "# defaults = {'multigs': 'gsclasses'}).\n",
    "model.fit(data_path = 'ct.csv', skills = [\"Plot imperfect radical\",\n",
    "                                          \"Plot pi\"],\n",
    "                                multigs = True)\n",
    "\n",
    "# We can combine multiple model variants.\n",
    "model.fit(data_path = 'ct.csv', skills = [\"Plot imperfect radical\",\n",
    "                                          \"Plot pi\"],\n",
    "                                multigs = True, forgets = True,\n",
    "                                multilearn = True)\n",
    "\n",
    "# We can use a different column to specify the different learn and \n",
    "# forget classes. In this case, we use student ID.\n",
    "model.fit(data_path = 'ct.csv', skills = [\"Plot imperfect radical\",\n",
    "                                          \"Plot pi\"],\n",
    "                                multigs = True, forgets = True,\n",
    "                                multilearn = 'Anon Student Id')\n",
    "\n",
    "# View the trained parameters!\n",
    "print(model.params())"
   ]
  },
  {
   "cell_type": "markdown",
   "id": "3f6be686",
   "metadata": {},
   "source": [
    "### Show dataset"
   ]
  },
  {
   "cell_type": "code",
   "execution_count": 3,
   "id": "f8ec83b6",
   "metadata": {},
   "outputs": [
    {
     "ename": "EmptyDataError",
     "evalue": "No columns to parse from file",
     "output_type": "error",
     "traceback": [
      "\u001b[0;31m---------------------------------------------------------------------------\u001b[0m",
      "\u001b[0;31mEmptyDataError\u001b[0m                            Traceback (most recent call last)",
      "Input \u001b[0;32mIn [3]\u001b[0m, in \u001b[0;36m<cell line: 1>\u001b[0;34m()\u001b[0m\n\u001b[0;32m----> 1\u001b[0m as_df\u001b[38;5;241m=\u001b[39m \u001b[43mpd\u001b[49m\u001b[38;5;241;43m.\u001b[39;49m\u001b[43mread_csv\u001b[49m\u001b[43m(\u001b[49m\u001b[38;5;124;43m'\u001b[39;49m\u001b[38;5;124;43mas.csv\u001b[39;49m\u001b[38;5;124;43m'\u001b[39;49m\u001b[43m,\u001b[49m\u001b[43m \u001b[49m\u001b[43mencoding\u001b[49m\u001b[43m \u001b[49m\u001b[38;5;241;43m=\u001b[39;49m\u001b[43m \u001b[49m\u001b[38;5;124;43m'\u001b[39;49m\u001b[38;5;124;43mlatin\u001b[39;49m\u001b[38;5;124;43m'\u001b[39;49m\u001b[43m,\u001b[49m\u001b[43m \u001b[49m\u001b[43mlow_memory\u001b[49m\u001b[43m \u001b[49m\u001b[38;5;241;43m=\u001b[39;49m\u001b[43m \u001b[49m\u001b[38;5;28;43;01mFalse\u001b[39;49;00m\u001b[43m)\u001b[49m \n\u001b[1;32m      2\u001b[0m \u001b[38;5;28mprint\u001b[39m(as_df\u001b[38;5;241m.\u001b[39mcolumns)\n\u001b[1;32m      3\u001b[0m as_df\u001b[38;5;241m.\u001b[39mhead()\n",
      "File \u001b[0;32m~/Desktop/BKTstuff/bktenv/lib/python3.10/site-packages/pandas/util/_decorators.py:311\u001b[0m, in \u001b[0;36mdeprecate_nonkeyword_arguments.<locals>.decorate.<locals>.wrapper\u001b[0;34m(*args, **kwargs)\u001b[0m\n\u001b[1;32m    305\u001b[0m \u001b[38;5;28;01mif\u001b[39;00m \u001b[38;5;28mlen\u001b[39m(args) \u001b[38;5;241m>\u001b[39m num_allow_args:\n\u001b[1;32m    306\u001b[0m     warnings\u001b[38;5;241m.\u001b[39mwarn(\n\u001b[1;32m    307\u001b[0m         msg\u001b[38;5;241m.\u001b[39mformat(arguments\u001b[38;5;241m=\u001b[39marguments),\n\u001b[1;32m    308\u001b[0m         \u001b[38;5;167;01mFutureWarning\u001b[39;00m,\n\u001b[1;32m    309\u001b[0m         stacklevel\u001b[38;5;241m=\u001b[39mstacklevel,\n\u001b[1;32m    310\u001b[0m     )\n\u001b[0;32m--> 311\u001b[0m \u001b[38;5;28;01mreturn\u001b[39;00m \u001b[43mfunc\u001b[49m\u001b[43m(\u001b[49m\u001b[38;5;241;43m*\u001b[39;49m\u001b[43margs\u001b[49m\u001b[43m,\u001b[49m\u001b[43m \u001b[49m\u001b[38;5;241;43m*\u001b[39;49m\u001b[38;5;241;43m*\u001b[39;49m\u001b[43mkwargs\u001b[49m\u001b[43m)\u001b[49m\n",
      "File \u001b[0;32m~/Desktop/BKTstuff/bktenv/lib/python3.10/site-packages/pandas/io/parsers/readers.py:678\u001b[0m, in \u001b[0;36mread_csv\u001b[0;34m(filepath_or_buffer, sep, delimiter, header, names, index_col, usecols, squeeze, prefix, mangle_dupe_cols, dtype, engine, converters, true_values, false_values, skipinitialspace, skiprows, skipfooter, nrows, na_values, keep_default_na, na_filter, verbose, skip_blank_lines, parse_dates, infer_datetime_format, keep_date_col, date_parser, dayfirst, cache_dates, iterator, chunksize, compression, thousands, decimal, lineterminator, quotechar, quoting, doublequote, escapechar, comment, encoding, encoding_errors, dialect, error_bad_lines, warn_bad_lines, on_bad_lines, delim_whitespace, low_memory, memory_map, float_precision, storage_options)\u001b[0m\n\u001b[1;32m    663\u001b[0m kwds_defaults \u001b[38;5;241m=\u001b[39m _refine_defaults_read(\n\u001b[1;32m    664\u001b[0m     dialect,\n\u001b[1;32m    665\u001b[0m     delimiter,\n\u001b[0;32m   (...)\u001b[0m\n\u001b[1;32m    674\u001b[0m     defaults\u001b[38;5;241m=\u001b[39m{\u001b[38;5;124m\"\u001b[39m\u001b[38;5;124mdelimiter\u001b[39m\u001b[38;5;124m\"\u001b[39m: \u001b[38;5;124m\"\u001b[39m\u001b[38;5;124m,\u001b[39m\u001b[38;5;124m\"\u001b[39m},\n\u001b[1;32m    675\u001b[0m )\n\u001b[1;32m    676\u001b[0m kwds\u001b[38;5;241m.\u001b[39mupdate(kwds_defaults)\n\u001b[0;32m--> 678\u001b[0m \u001b[38;5;28;01mreturn\u001b[39;00m \u001b[43m_read\u001b[49m\u001b[43m(\u001b[49m\u001b[43mfilepath_or_buffer\u001b[49m\u001b[43m,\u001b[49m\u001b[43m \u001b[49m\u001b[43mkwds\u001b[49m\u001b[43m)\u001b[49m\n",
      "File \u001b[0;32m~/Desktop/BKTstuff/bktenv/lib/python3.10/site-packages/pandas/io/parsers/readers.py:575\u001b[0m, in \u001b[0;36m_read\u001b[0;34m(filepath_or_buffer, kwds)\u001b[0m\n\u001b[1;32m    572\u001b[0m _validate_names(kwds\u001b[38;5;241m.\u001b[39mget(\u001b[38;5;124m\"\u001b[39m\u001b[38;5;124mnames\u001b[39m\u001b[38;5;124m\"\u001b[39m, \u001b[38;5;28;01mNone\u001b[39;00m))\n\u001b[1;32m    574\u001b[0m \u001b[38;5;66;03m# Create the parser.\u001b[39;00m\n\u001b[0;32m--> 575\u001b[0m parser \u001b[38;5;241m=\u001b[39m \u001b[43mTextFileReader\u001b[49m\u001b[43m(\u001b[49m\u001b[43mfilepath_or_buffer\u001b[49m\u001b[43m,\u001b[49m\u001b[43m \u001b[49m\u001b[38;5;241;43m*\u001b[39;49m\u001b[38;5;241;43m*\u001b[39;49m\u001b[43mkwds\u001b[49m\u001b[43m)\u001b[49m\n\u001b[1;32m    577\u001b[0m \u001b[38;5;28;01mif\u001b[39;00m chunksize \u001b[38;5;129;01mor\u001b[39;00m iterator:\n\u001b[1;32m    578\u001b[0m     \u001b[38;5;28;01mreturn\u001b[39;00m parser\n",
      "File \u001b[0;32m~/Desktop/BKTstuff/bktenv/lib/python3.10/site-packages/pandas/io/parsers/readers.py:932\u001b[0m, in \u001b[0;36mTextFileReader.__init__\u001b[0;34m(self, f, engine, **kwds)\u001b[0m\n\u001b[1;32m    929\u001b[0m     \u001b[38;5;28mself\u001b[39m\u001b[38;5;241m.\u001b[39moptions[\u001b[38;5;124m\"\u001b[39m\u001b[38;5;124mhas_index_names\u001b[39m\u001b[38;5;124m\"\u001b[39m] \u001b[38;5;241m=\u001b[39m kwds[\u001b[38;5;124m\"\u001b[39m\u001b[38;5;124mhas_index_names\u001b[39m\u001b[38;5;124m\"\u001b[39m]\n\u001b[1;32m    931\u001b[0m \u001b[38;5;28mself\u001b[39m\u001b[38;5;241m.\u001b[39mhandles: IOHandles \u001b[38;5;241m|\u001b[39m \u001b[38;5;28;01mNone\u001b[39;00m \u001b[38;5;241m=\u001b[39m \u001b[38;5;28;01mNone\u001b[39;00m\n\u001b[0;32m--> 932\u001b[0m \u001b[38;5;28mself\u001b[39m\u001b[38;5;241m.\u001b[39m_engine \u001b[38;5;241m=\u001b[39m \u001b[38;5;28;43mself\u001b[39;49m\u001b[38;5;241;43m.\u001b[39;49m\u001b[43m_make_engine\u001b[49m\u001b[43m(\u001b[49m\u001b[43mf\u001b[49m\u001b[43m,\u001b[49m\u001b[43m \u001b[49m\u001b[38;5;28;43mself\u001b[39;49m\u001b[38;5;241;43m.\u001b[39;49m\u001b[43mengine\u001b[49m\u001b[43m)\u001b[49m\n",
      "File \u001b[0;32m~/Desktop/BKTstuff/bktenv/lib/python3.10/site-packages/pandas/io/parsers/readers.py:1234\u001b[0m, in \u001b[0;36mTextFileReader._make_engine\u001b[0;34m(self, f, engine)\u001b[0m\n\u001b[1;32m   1231\u001b[0m     \u001b[38;5;28;01mraise\u001b[39;00m \u001b[38;5;167;01mValueError\u001b[39;00m(msg)\n\u001b[1;32m   1233\u001b[0m \u001b[38;5;28;01mtry\u001b[39;00m:\n\u001b[0;32m-> 1234\u001b[0m     \u001b[38;5;28;01mreturn\u001b[39;00m \u001b[43mmapping\u001b[49m\u001b[43m[\u001b[49m\u001b[43mengine\u001b[49m\u001b[43m]\u001b[49m\u001b[43m(\u001b[49m\u001b[43mf\u001b[49m\u001b[43m,\u001b[49m\u001b[43m \u001b[49m\u001b[38;5;241;43m*\u001b[39;49m\u001b[38;5;241;43m*\u001b[39;49m\u001b[38;5;28;43mself\u001b[39;49m\u001b[38;5;241;43m.\u001b[39;49m\u001b[43moptions\u001b[49m\u001b[43m)\u001b[49m\n\u001b[1;32m   1235\u001b[0m \u001b[38;5;28;01mexcept\u001b[39;00m \u001b[38;5;167;01mException\u001b[39;00m:\n\u001b[1;32m   1236\u001b[0m     \u001b[38;5;28;01mif\u001b[39;00m \u001b[38;5;28mself\u001b[39m\u001b[38;5;241m.\u001b[39mhandles \u001b[38;5;129;01mis\u001b[39;00m \u001b[38;5;129;01mnot\u001b[39;00m \u001b[38;5;28;01mNone\u001b[39;00m:\n",
      "File \u001b[0;32m~/Desktop/BKTstuff/bktenv/lib/python3.10/site-packages/pandas/io/parsers/c_parser_wrapper.py:75\u001b[0m, in \u001b[0;36mCParserWrapper.__init__\u001b[0;34m(self, src, **kwds)\u001b[0m\n\u001b[1;32m     72\u001b[0m     kwds\u001b[38;5;241m.\u001b[39mpop(key, \u001b[38;5;28;01mNone\u001b[39;00m)\n\u001b[1;32m     74\u001b[0m kwds[\u001b[38;5;124m\"\u001b[39m\u001b[38;5;124mdtype\u001b[39m\u001b[38;5;124m\"\u001b[39m] \u001b[38;5;241m=\u001b[39m ensure_dtype_objs(kwds\u001b[38;5;241m.\u001b[39mget(\u001b[38;5;124m\"\u001b[39m\u001b[38;5;124mdtype\u001b[39m\u001b[38;5;124m\"\u001b[39m, \u001b[38;5;28;01mNone\u001b[39;00m))\n\u001b[0;32m---> 75\u001b[0m \u001b[38;5;28mself\u001b[39m\u001b[38;5;241m.\u001b[39m_reader \u001b[38;5;241m=\u001b[39m \u001b[43mparsers\u001b[49m\u001b[38;5;241;43m.\u001b[39;49m\u001b[43mTextReader\u001b[49m\u001b[43m(\u001b[49m\u001b[43msrc\u001b[49m\u001b[43m,\u001b[49m\u001b[43m \u001b[49m\u001b[38;5;241;43m*\u001b[39;49m\u001b[38;5;241;43m*\u001b[39;49m\u001b[43mkwds\u001b[49m\u001b[43m)\u001b[49m\n\u001b[1;32m     77\u001b[0m \u001b[38;5;28mself\u001b[39m\u001b[38;5;241m.\u001b[39munnamed_cols \u001b[38;5;241m=\u001b[39m \u001b[38;5;28mself\u001b[39m\u001b[38;5;241m.\u001b[39m_reader\u001b[38;5;241m.\u001b[39munnamed_cols\n\u001b[1;32m     79\u001b[0m \u001b[38;5;66;03m# error: Cannot determine type of 'names'\u001b[39;00m\n",
      "File \u001b[0;32m~/Desktop/BKTstuff/bktenv/lib/python3.10/site-packages/pandas/_libs/parsers.pyx:551\u001b[0m, in \u001b[0;36mpandas._libs.parsers.TextReader.__cinit__\u001b[0;34m()\u001b[0m\n",
      "\u001b[0;31mEmptyDataError\u001b[0m: No columns to parse from file"
     ]
    }
   ],
   "source": [
    "as_df= pd.read_csv('as.csv', encoding = 'latin', low_memory = False) \n",
    "print(as_df.columns)\n",
    "as_df.head()"
   ]
  },
  {
   "cell_type": "code",
   "execution_count": 5,
   "id": "e6f345fd",
   "metadata": {},
   "outputs": [
    {
     "name": "stdout",
     "output_type": "stream",
     "text": [
      "Index(['Unnamed: 0', 'Row', 'Anon Student Id', 'Problem Hierarchy',\n",
      "       'Problem Name', 'Problem View', 'Step Name', 'Step Start Time',\n",
      "       'First Transaction Time', 'Correct Transaction Time', 'Step End Time',\n",
      "       'Step Duration (sec)', 'Correct Step Duration (sec)',\n",
      "       'Error Step Duration (sec)', 'Correct First Attempt', 'Incorrects',\n",
      "       'Hints', 'Corrects', 'KC(Default)', 'Opportunity(Default)'],\n",
      "      dtype='object')\n"
     ]
    },
    {
     "data": {
      "text/html": [
       "<div>\n",
       "<style scoped>\n",
       "    .dataframe tbody tr th:only-of-type {\n",
       "        vertical-align: middle;\n",
       "    }\n",
       "\n",
       "    .dataframe tbody tr th {\n",
       "        vertical-align: top;\n",
       "    }\n",
       "\n",
       "    .dataframe thead th {\n",
       "        text-align: right;\n",
       "    }\n",
       "</style>\n",
       "<table border=\"1\" class=\"dataframe\">\n",
       "  <thead>\n",
       "    <tr style=\"text-align: right;\">\n",
       "      <th></th>\n",
       "      <th>Unnamed: 0</th>\n",
       "      <th>Row</th>\n",
       "      <th>Anon Student Id</th>\n",
       "      <th>Problem Hierarchy</th>\n",
       "      <th>Problem Name</th>\n",
       "      <th>Problem View</th>\n",
       "      <th>Step Name</th>\n",
       "      <th>Step Start Time</th>\n",
       "      <th>First Transaction Time</th>\n",
       "      <th>Correct Transaction Time</th>\n",
       "      <th>Step End Time</th>\n",
       "      <th>Step Duration (sec)</th>\n",
       "      <th>Correct Step Duration (sec)</th>\n",
       "      <th>Error Step Duration (sec)</th>\n",
       "      <th>Correct First Attempt</th>\n",
       "      <th>Incorrects</th>\n",
       "      <th>Hints</th>\n",
       "      <th>Corrects</th>\n",
       "      <th>KC(Default)</th>\n",
       "      <th>Opportunity(Default)</th>\n",
       "    </tr>\n",
       "  </thead>\n",
       "  <tbody>\n",
       "    <tr>\n",
       "      <th>0</th>\n",
       "      <td>1576</td>\n",
       "      <td>1927</td>\n",
       "      <td>745Yh</td>\n",
       "      <td>Unit RATIO-PROPORTION, Section RATIO-PROPORTION-2</td>\n",
       "      <td>RATIO2-001</td>\n",
       "      <td>1</td>\n",
       "      <td>SimplifiedNumeratorQuantity1</td>\n",
       "      <td>2006-11-14 10:18:00.0</td>\n",
       "      <td>2006-11-14 10:18:05.0</td>\n",
       "      <td>2006-11-14 10:18:05.0</td>\n",
       "      <td>2006-11-14 10:18:05.0</td>\n",
       "      <td>5.00000</td>\n",
       "      <td>5.00000</td>\n",
       "      <td>NaN</td>\n",
       "      <td>1</td>\n",
       "      <td>0</td>\n",
       "      <td>0</td>\n",
       "      <td>1</td>\n",
       "      <td>Calculate unit rate</td>\n",
       "      <td>1</td>\n",
       "    </tr>\n",
       "    <tr>\n",
       "      <th>1</th>\n",
       "      <td>1580</td>\n",
       "      <td>1931</td>\n",
       "      <td>745Yh</td>\n",
       "      <td>Unit RATIO-PROPORTION, Section RATIO-PROPORTION-2</td>\n",
       "      <td>RATIO2-001</td>\n",
       "      <td>1</td>\n",
       "      <td>SimplifiedNumeratorQuantity2</td>\n",
       "      <td>2006-11-14 10:18:11.0</td>\n",
       "      <td>2006-11-14 10:18:17.0</td>\n",
       "      <td>2006-11-14 10:18:34.0</td>\n",
       "      <td>2006-11-14 10:18:34.0</td>\n",
       "      <td>23.00000</td>\n",
       "      <td>NaN</td>\n",
       "      <td>23.00000</td>\n",
       "      <td>0</td>\n",
       "      <td>1</td>\n",
       "      <td>0</td>\n",
       "      <td>1</td>\n",
       "      <td>Calculate unit rate</td>\n",
       "      <td>2</td>\n",
       "    </tr>\n",
       "    <tr>\n",
       "      <th>2</th>\n",
       "      <td>1596</td>\n",
       "      <td>1947</td>\n",
       "      <td>745Yh</td>\n",
       "      <td>Unit RATIO-PROPORTION, Section RATIO-PROPORTION-2</td>\n",
       "      <td>RATIO2-012</td>\n",
       "      <td>1</td>\n",
       "      <td>SimplifiedNumeratorQuantity1</td>\n",
       "      <td>2006-11-14 10:50:52.0</td>\n",
       "      <td>2006-11-14 10:50:57.0</td>\n",
       "      <td>2006-11-14 10:51:11.0</td>\n",
       "      <td>2006-11-14 10:51:11.0</td>\n",
       "      <td>18.00000</td>\n",
       "      <td>NaN</td>\n",
       "      <td>18.00000</td>\n",
       "      <td>0</td>\n",
       "      <td>1</td>\n",
       "      <td>0</td>\n",
       "      <td>1</td>\n",
       "      <td>Calculate unit rate</td>\n",
       "      <td>3</td>\n",
       "    </tr>\n",
       "    <tr>\n",
       "      <th>3</th>\n",
       "      <td>1597</td>\n",
       "      <td>1948</td>\n",
       "      <td>745Yh</td>\n",
       "      <td>Unit RATIO-PROPORTION, Section RATIO-PROPORTION-2</td>\n",
       "      <td>RATIO2-012</td>\n",
       "      <td>1</td>\n",
       "      <td>SimplifiedNumeratorQuantity2</td>\n",
       "      <td>2006-11-14 10:51:11.0</td>\n",
       "      <td>2006-11-14 10:51:14.0</td>\n",
       "      <td>2006-11-14 10:51:14.0</td>\n",
       "      <td>2006-11-14 10:51:14.0</td>\n",
       "      <td>3.00000</td>\n",
       "      <td>3.00000</td>\n",
       "      <td>NaN</td>\n",
       "      <td>1</td>\n",
       "      <td>0</td>\n",
       "      <td>0</td>\n",
       "      <td>1</td>\n",
       "      <td>Calculate unit rate</td>\n",
       "      <td>4</td>\n",
       "    </tr>\n",
       "    <tr>\n",
       "      <th>4</th>\n",
       "      <td>1612</td>\n",
       "      <td>1963</td>\n",
       "      <td>745Yh</td>\n",
       "      <td>Unit RATIO-PROPORTION, Section RATIO-PROPORTION-2</td>\n",
       "      <td>RATIO2-054</td>\n",
       "      <td>1</td>\n",
       "      <td>SimplifiedNumeratorQuantity2</td>\n",
       "      <td>2006-11-28 09:53:43.0</td>\n",
       "      <td>2006-11-28 09:53:47.0</td>\n",
       "      <td>2006-11-28 09:53:56.0</td>\n",
       "      <td>2006-11-28 09:53:56.0</td>\n",
       "      <td>13.00000</td>\n",
       "      <td>NaN</td>\n",
       "      <td>13.00000</td>\n",
       "      <td>0</td>\n",
       "      <td>1</td>\n",
       "      <td>0</td>\n",
       "      <td>1</td>\n",
       "      <td>Calculate unit rate</td>\n",
       "      <td>5</td>\n",
       "    </tr>\n",
       "  </tbody>\n",
       "</table>\n",
       "</div>"
      ],
      "text/plain": [
       "   Unnamed: 0   Row Anon Student Id  \\\n",
       "0        1576  1927           745Yh   \n",
       "1        1580  1931           745Yh   \n",
       "2        1596  1947           745Yh   \n",
       "3        1597  1948           745Yh   \n",
       "4        1612  1963           745Yh   \n",
       "\n",
       "                                   Problem Hierarchy Problem Name  \\\n",
       "0  Unit RATIO-PROPORTION, Section RATIO-PROPORTION-2   RATIO2-001   \n",
       "1  Unit RATIO-PROPORTION, Section RATIO-PROPORTION-2   RATIO2-001   \n",
       "2  Unit RATIO-PROPORTION, Section RATIO-PROPORTION-2   RATIO2-012   \n",
       "3  Unit RATIO-PROPORTION, Section RATIO-PROPORTION-2   RATIO2-012   \n",
       "4  Unit RATIO-PROPORTION, Section RATIO-PROPORTION-2   RATIO2-054   \n",
       "\n",
       "   Problem View                     Step Name        Step Start Time  \\\n",
       "0             1  SimplifiedNumeratorQuantity1  2006-11-14 10:18:00.0   \n",
       "1             1  SimplifiedNumeratorQuantity2  2006-11-14 10:18:11.0   \n",
       "2             1  SimplifiedNumeratorQuantity1  2006-11-14 10:50:52.0   \n",
       "3             1  SimplifiedNumeratorQuantity2  2006-11-14 10:51:11.0   \n",
       "4             1  SimplifiedNumeratorQuantity2  2006-11-28 09:53:43.0   \n",
       "\n",
       "  First Transaction Time Correct Transaction Time          Step End Time  \\\n",
       "0  2006-11-14 10:18:05.0    2006-11-14 10:18:05.0  2006-11-14 10:18:05.0   \n",
       "1  2006-11-14 10:18:17.0    2006-11-14 10:18:34.0  2006-11-14 10:18:34.0   \n",
       "2  2006-11-14 10:50:57.0    2006-11-14 10:51:11.0  2006-11-14 10:51:11.0   \n",
       "3  2006-11-14 10:51:14.0    2006-11-14 10:51:14.0  2006-11-14 10:51:14.0   \n",
       "4  2006-11-28 09:53:47.0    2006-11-28 09:53:56.0  2006-11-28 09:53:56.0   \n",
       "\n",
       "   Step Duration (sec)  Correct Step Duration (sec)  \\\n",
       "0              5.00000                      5.00000   \n",
       "1             23.00000                          NaN   \n",
       "2             18.00000                          NaN   \n",
       "3              3.00000                      3.00000   \n",
       "4             13.00000                          NaN   \n",
       "\n",
       "   Error Step Duration (sec)  Correct First Attempt  Incorrects  Hints  \\\n",
       "0                        NaN                      1           0      0   \n",
       "1                   23.00000                      0           1      0   \n",
       "2                   18.00000                      0           1      0   \n",
       "3                        NaN                      1           0      0   \n",
       "4                   13.00000                      0           1      0   \n",
       "\n",
       "   Corrects          KC(Default)  Opportunity(Default)  \n",
       "0         1  Calculate unit rate                     1  \n",
       "1         1  Calculate unit rate                     2  \n",
       "2         1  Calculate unit rate                     3  \n",
       "3         1  Calculate unit rate                     4  \n",
       "4         1  Calculate unit rate                     5  "
      ]
     },
     "execution_count": 5,
     "metadata": {},
     "output_type": "execute_result"
    }
   ],
   "source": [
    "ct_df = pd.read_csv('ct.csv', encoding = 'latin')\n",
    "print(ct_df.columns)\n",
    "ct_df.head(5)"
   ]
  },
  {
   "cell_type": "markdown",
   "id": "9522cc53",
   "metadata": {},
   "source": [
    "### Fit the model"
   ]
  },
  {
   "cell_type": "markdown",
   "id": "bd9e225c",
   "metadata": {},
   "source": [
    "Fit a BKT model to every skill in the Cognitive Tutor dataset separately. "
   ]
  },
  {
   "cell_type": "code",
   "execution_count": 9,
   "id": "b4c879c3",
   "metadata": {},
   "outputs": [],
   "source": [
    "model.fit(data_path = 'ct.csv')"
   ]
  },
  {
   "cell_type": "markdown",
   "id": "755e93e5",
   "metadata": {},
   "source": [
    "Train on multiple skills specified by a list of skill names or a REGEX match for each skill using the skills parameter"
   ]
  },
  {
   "cell_type": "code",
   "execution_count": 10,
   "id": "f17869df",
   "metadata": {},
   "outputs": [
    {
     "name": "stdout",
     "output_type": "stream",
     "text": [
      "Fitted Skills:\n",
      "Plot non-terminating improper fraction\n",
      "Plot terminating proper fraction\n",
      "Calculate part in proportion with fractions\n",
      "Calculate total in proportion with fractions\n"
     ]
    }
   ],
   "source": [
    "\n",
    "model.fit(data_path = 'ct.csv', skills = \".*fraction.*\")\n",
    "print(\"Fitted Skills:\\n%s\" % '\\n'.join(model.coef_.keys()))"
   ]
  },
  {
   "cell_type": "code",
   "execution_count": 11,
   "id": "83063b48",
   "metadata": {},
   "outputs": [
    {
     "name": "stdout",
     "output_type": "stream",
     "text": [
      "Training RMSE: 0.453822\n",
      "Training AUC: 0.708021\n"
     ]
    }
   ],
   "source": [
    "#  Evaluate with the default RMSE then specify AUC.\n",
    "model.fit(data_path = 'ct.csv')\n",
    "training_rmse = model.evaluate(data = ct_df)\n",
    "training_auc = model.evaluate(data_path = \"ct.csv\", metric = 'auc')\n",
    "print(\"Training RMSE: %f\" % training_rmse)\n",
    "print(\"Training AUC: %f\" % training_auc)"
   ]
  },
  {
   "cell_type": "code",
   "execution_count": 12,
   "id": "f2a5891f",
   "metadata": {},
   "outputs": [
    {
     "name": "stdout",
     "output_type": "stream",
     "text": [
      "Training MAE: 0.412309\n"
     ]
    }
   ],
   "source": [
    "#  We can even define our own metric!\n",
    "def mae(true_vals, pred_vals):\n",
    "  \"\"\" Calculates the mean absolute error. \"\"\"\n",
    "  return np.mean(np.abs(true_vals - pred_vals))\n",
    "\n",
    "training_mae = model.evaluate(data_path = 'ct.csv', metric = mae)\n",
    "print(\"Training MAE: %f\" % training_mae)"
   ]
  },
  {
   "cell_type": "markdown",
   "id": "76162969",
   "metadata": {},
   "source": [
    "### Model predection "
   ]
  },
  {
   "cell_type": "code",
   "execution_count": 13,
   "id": "ec802d5d",
   "metadata": {},
   "outputs": [
    {
     "data": {
      "text/html": [
       "<div>\n",
       "<style scoped>\n",
       "    .dataframe tbody tr th:only-of-type {\n",
       "        vertical-align: middle;\n",
       "    }\n",
       "\n",
       "    .dataframe tbody tr th {\n",
       "        vertical-align: top;\n",
       "    }\n",
       "\n",
       "    .dataframe thead th {\n",
       "        text-align: right;\n",
       "    }\n",
       "</style>\n",
       "<table border=\"1\" class=\"dataframe\">\n",
       "  <thead>\n",
       "    <tr style=\"text-align: right;\">\n",
       "      <th></th>\n",
       "      <th>Anon Student Id</th>\n",
       "      <th>KC(Default)</th>\n",
       "      <th>Correct First Attempt</th>\n",
       "      <th>correct_predictions</th>\n",
       "      <th>state_predictions</th>\n",
       "    </tr>\n",
       "  </thead>\n",
       "  <tbody>\n",
       "    <tr>\n",
       "      <th>773</th>\n",
       "      <td>0I891Gg</td>\n",
       "      <td>Plot non-terminating improper fraction</td>\n",
       "      <td>0</td>\n",
       "      <td>0.49980</td>\n",
       "      <td>0.68753</td>\n",
       "    </tr>\n",
       "    <tr>\n",
       "      <th>774</th>\n",
       "      <td>0I891Gg</td>\n",
       "      <td>Plot imperfect radical</td>\n",
       "      <td>0</td>\n",
       "      <td>0.50000</td>\n",
       "      <td>0.50000</td>\n",
       "    </tr>\n",
       "    <tr>\n",
       "      <th>775</th>\n",
       "      <td>0I891Gg</td>\n",
       "      <td>Plot terminating proper fraction</td>\n",
       "      <td>0</td>\n",
       "      <td>0.52498</td>\n",
       "      <td>0.46091</td>\n",
       "    </tr>\n",
       "    <tr>\n",
       "      <th>776</th>\n",
       "      <td>0I891Gg</td>\n",
       "      <td>Plot pi</td>\n",
       "      <td>1</td>\n",
       "      <td>0.50000</td>\n",
       "      <td>0.50000</td>\n",
       "    </tr>\n",
       "    <tr>\n",
       "      <th>777</th>\n",
       "      <td>0I891Gg</td>\n",
       "      <td>Plot terminating proper fraction</td>\n",
       "      <td>1</td>\n",
       "      <td>0.45845</td>\n",
       "      <td>0.28060</td>\n",
       "    </tr>\n",
       "  </tbody>\n",
       "</table>\n",
       "</div>"
      ],
      "text/plain": [
       "    Anon Student Id                             KC(Default)  \\\n",
       "773         0I891Gg  Plot non-terminating improper fraction   \n",
       "774         0I891Gg                  Plot imperfect radical   \n",
       "775         0I891Gg        Plot terminating proper fraction   \n",
       "776         0I891Gg                                 Plot pi   \n",
       "777         0I891Gg        Plot terminating proper fraction   \n",
       "\n",
       "     Correct First Attempt  correct_predictions  state_predictions  \n",
       "773                      0              0.49980            0.68753  \n",
       "774                      0              0.50000            0.50000  \n",
       "775                      0              0.52498            0.46091  \n",
       "776                      1              0.50000            0.50000  \n",
       "777                      1              0.45845            0.28060  "
      ]
     },
     "execution_count": 13,
     "metadata": {},
     "output_type": "execute_result"
    }
   ],
   "source": [
    "# Note again that the REGEX expression below trains BKT models on all\n",
    "# skills containing the word fraction!\n",
    "model.fit(data_path = 'ct.csv', skills = \".*fraction.*\")\n",
    "preds = model.predict(data_path = 'ct.csv')\n",
    "preds[['Anon Student Id', 'KC(Default)', 'Correct First Attempt', \n",
    "       'correct_predictions', 'state_predictions']].head(5)"
   ]
  },
  {
   "cell_type": "code",
   "execution_count": 14,
   "id": "cbd95e6a",
   "metadata": {},
   "outputs": [
    {
     "data": {
      "text/plain": [
       "array(['Plot non-terminating improper fraction',\n",
       "       'Plot terminating proper fraction',\n",
       "       'Calculate part in proportion with fractions',\n",
       "       'Calculate total in proportion with fractions'], dtype=object)"
      ]
     },
     "execution_count": 14,
     "metadata": {},
     "output_type": "execute_result"
    }
   ],
   "source": [
    "# Let's sanity check that we have only trained on the skills that we \n",
    "# specified in the call to fit! Note that while it is possible for a \n",
    "# BKT prediction to be 0.5 exactly, it is unlikely.\n",
    "preds[preds['correct_predictions'] != 0.5]['KC(Default)'].unique()"
   ]
  },
  {
   "cell_type": "code",
   "execution_count": 15,
   "id": "e556dda1",
   "metadata": {},
   "outputs": [
    {
     "data": {
      "text/plain": [
       "0.44061911934036996"
      ]
     },
     "execution_count": 15,
     "metadata": {},
     "output_type": "execute_result"
    }
   ],
   "source": [
    "# Let's manually calculate the RMSE of the correct predictions \n",
    "# and ensure that it is the same as a call to the evaluate function.\n",
    "def rmse(y_true, y_pred):\n",
    "  \"\"\" Returns the root-mean squared error. \"\"\"\n",
    "  return np.sqrt(np.mean((y_true - y_pred) ** 2))\n",
    "\n",
    "# Filter out the data for which we did not train!\n",
    "preds_filtered = preds[preds['KC(Default)'].str.contains('fraction')]\n",
    "manual_training_rmse = rmse(preds_filtered['Correct First Attempt'],\n",
    "                            preds_filtered['correct_predictions'])\n",
    "manual_training_rmse"
   ]
  },
  {
   "cell_type": "code",
   "execution_count": 16,
   "id": "58e6b1c3",
   "metadata": {},
   "outputs": [
    {
     "data": {
      "text/plain": [
       "0.44061911934036274"
      ]
     },
     "execution_count": 16,
     "metadata": {},
     "output_type": "execute_result"
    }
   ],
   "source": [
    "# We use model.evaluate to accomplish the same thing!\n",
    "# You should receive an RMSE that is identical to the above\n",
    "# manually calculated RMSE.\n",
    "model.evaluate(data = ct_df)"
   ]
  },
  {
   "cell_type": "code",
   "execution_count": null,
   "id": "0dde8d13",
   "metadata": {},
   "outputs": [],
   "source": []
  },
  {
   "cell_type": "code",
   "execution_count": null,
   "id": "fe7a7cce",
   "metadata": {},
   "outputs": [],
   "source": []
  },
  {
   "cell_type": "code",
   "execution_count": null,
   "id": "7e82a6a6",
   "metadata": {},
   "outputs": [],
   "source": []
  },
  {
   "cell_type": "code",
   "execution_count": null,
   "id": "4900e118",
   "metadata": {},
   "outputs": [],
   "source": []
  }
 ],
 "metadata": {
  "kernelspec": {
   "display_name": "Python 3 (ipykernel)",
   "language": "python",
   "name": "python3"
  },
  "language_info": {
   "codemirror_mode": {
    "name": "ipython",
    "version": 3
   },
   "file_extension": ".py",
   "mimetype": "text/x-python",
   "name": "python",
   "nbconvert_exporter": "python",
   "pygments_lexer": "ipython3",
   "version": "3.10.6"
  }
 },
 "nbformat": 4,
 "nbformat_minor": 5
}
